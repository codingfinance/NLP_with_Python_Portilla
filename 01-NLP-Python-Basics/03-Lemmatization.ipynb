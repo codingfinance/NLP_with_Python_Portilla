{
 "cells": [
  {
   "cell_type": "markdown",
   "metadata": {},
   "source": [
    "# Lemmatization\n",
    "In contrast to stemming, lemmatization looks beyond word reduction, and considers a language's full vocabulary to apply a *morphological analysis* to words. The lemma of 'was' is 'be' and the lemma of 'mice' is 'mouse'. Further, the lemma of 'meeting' might be 'meet' or 'meeting' depending on its use in a sentence."
   ]
  },
  {
   "cell_type": "code",
   "execution_count": 1,
   "metadata": {},
   "outputs": [],
   "source": [
    "import spacy\n",
    "nlp = spacy.load('en')"
   ]
  },
  {
   "cell_type": "code",
   "execution_count": 2,
   "metadata": {},
   "outputs": [
    {
     "name": "stdout",
     "output_type": "stream",
     "text": [
      "I\tPRON\t561228191312463089\t,-PRON-\n",
      "am\tVERB\t10382539506755952630\t,be\n",
      "a\tDET\t11901859001352538922\t,a\n",
      "runner\tNOUN\t12640964157389618806\t,runner\n",
      "running\tVERB\t12767647472892411841\t,run\n",
      "in\tADP\t3002984154512732771\t,in\n",
      "a\tDET\t11901859001352538922\t,a\n",
      "race\tNOUN\t8048469955494714898\t,race\n",
      "because\tADP\t16950148841647037698\t,because\n",
      "I\tPRON\t561228191312463089\t,-PRON-\n",
      "love\tVERB\t3702023516439754181\t,love\n",
      "to\tPART\t3791531372978436496\t,to\n",
      "run\tVERB\t12767647472892411841\t,run\n",
      "since\tADP\t10066841407251338481\t,since\n",
      "I\tPRON\t561228191312463089\t,-PRON-\n",
      "ran\tVERB\t12767647472892411841\t,run\n",
      "today\tNOUN\t11042482332948150395\t,today\n"
     ]
    }
   ],
   "source": [
    "doc1 = nlp(u\"I am a runner running in a race because I love to run since I ran today\")\n",
    "\n",
    "for token in doc1:\n",
    "    print(f\"{token.text}\\t{token.pos_}\\t{token.lemma}\\t,{token.lemma_}\")"
   ]
  },
  {
   "cell_type": "markdown",
   "metadata": {},
   "source": [
    "<font color=green>In the above sentence, `running`, `run` and `ran` all point to the same lemma `run` - hash value (12767647472892411841) to avoid duplication.</font>"
   ]
  },
  {
   "cell_type": "markdown",
   "metadata": {},
   "source": [
    "### Function to display lemmas\n",
    "Since the display above is staggared and hard to read, let's write a function that displays the information we want more neatly."
   ]
  },
  {
   "cell_type": "code",
   "execution_count": 3,
   "metadata": {},
   "outputs": [],
   "source": [
    "def show_lemmas(text):\n",
    "    \n",
    "    for token in text:\n",
    "        print(f\"{token.text:{12}}\\t{token.pos_:{6}}\\t{token.lemma:<{22}}\\t,{token.lemma_}\")\n",
    "    \n",
    "    "
   ]
  },
  {
   "cell_type": "code",
   "execution_count": 4,
   "metadata": {},
   "outputs": [
    {
     "name": "stdout",
     "output_type": "stream",
     "text": [
      "I           \tPRON  \t561228191312463089    \t,-PRON-\n",
      "saw         \tVERB  \t11925638236994514241  \t,see\n",
      "eighteen    \tNUM   \t9609336664675087640   \t,eighteen\n",
      "mice        \tNOUN  \t1384165645700560590   \t,mouse\n",
      "today       \tNOUN  \t11042482332948150395  \t,today\n",
      "!           \tPUNCT \t17494803046312582752  \t,!\n"
     ]
    }
   ],
   "source": [
    "doc2 = nlp(u\"I saw eighteen mice today!\")\n",
    "show_lemmas(doc2)"
   ]
  },
  {
   "cell_type": "markdown",
   "metadata": {},
   "source": [
    "<font color=green>Notice that the lemma of `saw` is `see`, `mice` is the plural form of `mouse`, and yet `eighteen` is its own number, *not* an expanded form of `eight`.</font>"
   ]
  },
  {
   "cell_type": "code",
   "execution_count": 5,
   "metadata": {},
   "outputs": [
    {
     "name": "stdout",
     "output_type": "stream",
     "text": [
      "I           \tPRON  \t561228191312463089    \t,-PRON-\n",
      "am          \tVERB  \t10382539506755952630  \t,be\n",
      "meeting     \tVERB  \t6880656908171229526   \t,meet\n",
      "him         \tPRON  \t561228191312463089    \t,-PRON-\n",
      "tomorrow    \tNOUN  \t3573583789758258062   \t,tomorrow\n",
      "at          \tADP   \t11667289587015813222  \t,at\n",
      "the         \tDET   \t7425985699627899538   \t,the\n",
      "meeting     \tNOUN  \t14798207169164081740  \t,meeting\n",
      ".           \tPUNCT \t12646065887601541794  \t,.\n"
     ]
    }
   ],
   "source": [
    "doc3 = nlp(u\"I am meeting him tomorrow at the meeting.\")\n",
    "\n",
    "show_lemmas(doc3)"
   ]
  },
  {
   "cell_type": "markdown",
   "metadata": {},
   "source": [
    "<font color=green>Here the lemma of `meeting` is determined by its Part of Speech tag.</font>"
   ]
  },
  {
   "cell_type": "code",
   "execution_count": 6,
   "metadata": {},
   "outputs": [
    {
     "name": "stdout",
     "output_type": "stream",
     "text": [
      "That        \tDET   \t4380130941430378203   \t,that\n",
      "'s          \tVERB  \t10382539506755952630  \t,be\n",
      "an          \tDET   \t15099054000809333061  \t,an\n",
      "enormous    \tADJ   \t17917224542039855524  \t,enormous\n",
      "automobile  \tNOUN  \t7211811266693931283   \t,automobile\n"
     ]
    }
   ],
   "source": [
    "doc4 = nlp(u\"That's an enormous automobile\")\n",
    "\n",
    "show_lemmas(doc4)"
   ]
  },
  {
   "cell_type": "markdown",
   "metadata": {},
   "source": [
    "<font color=green>Note that lemmatization does *not* reduce words to their most basic synonym - that is, `enormous` doesn't become `big` and `automobile` doesn't become `car`.</font>"
   ]
  },
  {
   "cell_type": "markdown",
   "metadata": {},
   "source": [
    "We should point out that although lemmatization looks at surrounding text to determine a given word's part of speech, it does not categorize phrases. In an upcoming lecture we'll investigate *word vectors and similarity*.\n"
   ]
  },
  {
   "cell_type": "code",
   "execution_count": null,
   "metadata": {},
   "outputs": [],
   "source": []
  }
 ],
 "metadata": {
  "kernelspec": {
   "display_name": "nlp_course",
   "language": "python",
   "name": "nlp_course"
  },
  "language_info": {
   "codemirror_mode": {
    "name": "ipython",
    "version": 3
   },
   "file_extension": ".py",
   "mimetype": "text/x-python",
   "name": "python",
   "nbconvert_exporter": "python",
   "pygments_lexer": "ipython3",
   "version": "3.7.6"
  }
 },
 "nbformat": 4,
 "nbformat_minor": 4
}
