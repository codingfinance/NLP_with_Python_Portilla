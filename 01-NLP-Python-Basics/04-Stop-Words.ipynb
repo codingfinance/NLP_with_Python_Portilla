{
 "cells": [
  {
   "cell_type": "markdown",
   "metadata": {},
   "source": [
    "# Stop Words\n",
    "Words like \"a\" and \"the\" appear so frequently that they don't require tagging as thoroughly as nouns, verbs and modifiers. We call these *stop words*, and they can be filtered from the text to be processed. spaCy holds a built-in list of some 305 English stop words."
   ]
  },
  {
   "cell_type": "code",
   "execution_count": 2,
   "metadata": {},
   "outputs": [],
   "source": [
    "# Perform standard imports:\n",
    "import spacy\n",
    "nlp = spacy.load('en_core_web_sm')"
   ]
  },
  {
   "cell_type": "markdown",
   "metadata": {},
   "source": [
    "##### Print the set of spaCy's default stop words (remember that sets are unordered)"
   ]
  },
  {
   "cell_type": "code",
   "execution_count": 3,
   "metadata": {},
   "outputs": [
    {
     "name": "stdout",
     "output_type": "stream",
     "text": [
      "{'down', 'everyone', 'itself', 'ca', 'several', 'mine', 'me', 'an', 'themselves', 'done', 'somehow', 'fifty', 'take', 'whom', 'than', 'well', 'and', 'make', 'serious', 'beside', 'below', 'thus', 'until', 'fifteen', 'yet', 'via', 'get', 'whence', 'whether', 'any', 'very', 'above', 'here', 'ourselves', 'be', 'together', 'whenever', 'during', 'on', 'show', 'before', 'cannot', 'what', 'will', 'anyone', 'hereby', 'himself', 'where', 'yours', 'others', 'twelve', 'further', 'another', 'most', 'been', 'always', 'sometime', 'in', 'two', 'seeming', 'eleven', 'nine', 'someone', 'among', 'bottom', 'must', 'thru', 'toward', 'former', 'its', 'beforehand', 'latter', 'such', 'thereupon', 'keep', 'whither', 'through', 'they', 'whoever', 'if', 'part', 'nevertheless', 'already', 'some', 'so', 'being', 'go', 'as', 'still', 'towards', 'move', 'were', 'almost', 'empty', 'there', 'give', 'out', 'besides', 'these', 'three', 'around', 'which', 'thence', 'put', 'anyhow', 'it', 'by', 'we', 'back', 'become', 'formerly', 'because', 'using', 'their', 'him', 'only', 'same', 'along', 'more', 'with', 'seem', 'anywhere', 'all', 'a', 'per', 'forty', 'then', 'wherein', 'is', 'ever', 'beyond', 'whereby', 'nobody', 'every', 'see', 'various', 'the', 'perhaps', 'due', 'hereafter', 'those', 'meanwhile', 'often', 'you', 'did', 'quite', 'yourselves', 'does', 'why', 'doing', 'never', 'whereas', 'first', 'else', 'myself', 'afterwards', 'would', 'used', 'nowhere', 'that', 'once', 'call', 'them', 'also', 'noone', 'less', 'thereafter', 'no', 'off', 'not', 'one', 'thereby', 'whole', 'name', 'other', 'few', 'within', 'front', 'everywhere', 'herself', 'amongst', 'ours', 'alone', 'rather', 'something', 'over', 'say', 'unless', 'both', 'whereafter', 'regarding', 'please', 'she', 'at', 'either', 'made', 'has', 'except', 'anything', 'could', 'eight', 'anyway', 'six', 'therein', 'indeed', 'each', 'across', 'should', 'throughout', 'seemed', 'really', 'behind', 'had', 'became', 'whatever', 'while', 'without', 'yourself', 'am', 'can', 'to', 'top', 'are', 'much', 'side', 'but', 'many', 'everything', 'sometimes', 'least', 'becoming', 'moreover', 'now', 'sixty', 'hereupon', 're', 'how', 'again', 'too', 'own', 'namely', 'neither', 'seems', 'against', 'even', 'since', 'when', 'amount', 'however', 'us', 'upon', 'from', 'becomes', 'onto', 'do', 'after', 'therefore', 'up', 'about', 'wherever', 'his', 'otherwise', 'hence', 'four', 'third', 'may', 'whose', 'elsewhere', 'herein', 'twenty', 'last', 'hers', 'next', 'into', 'none', 'our', 'enough', 'full', 'i', 'or', 'mostly', 'just', 'this', 'nor', 'nothing', 'five', 'her', 'somewhere', 'hundred', 'ten', 'although', 'though', 'under', 'latterly', 'was', 'have', 'he', 'whereupon', 'who', 'for', 'might', 'your', 'of', 'between', 'my'}\n"
     ]
    }
   ],
   "source": [
    "# Print the set of spaCy's default stop words (remember that sets are unordered):\n",
    "print(nlp.Defaults.stop_words)"
   ]
  },
  {
   "cell_type": "code",
   "execution_count": 4,
   "metadata": {},
   "outputs": [
    {
     "data": {
      "text/plain": [
       "305"
      ]
     },
     "execution_count": 4,
     "metadata": {},
     "output_type": "execute_result"
    }
   ],
   "source": [
    "len(nlp.Defaults.stop_words)"
   ]
  },
  {
   "cell_type": "markdown",
   "metadata": {},
   "source": [
    "## To see if a word is a stop word"
   ]
  },
  {
   "cell_type": "code",
   "execution_count": 5,
   "metadata": {},
   "outputs": [
    {
     "data": {
      "text/plain": [
       "True"
      ]
     },
     "execution_count": 5,
     "metadata": {},
     "output_type": "execute_result"
    }
   ],
   "source": [
    "nlp.vocab['myself'].is_stop"
   ]
  },
  {
   "cell_type": "code",
   "execution_count": 6,
   "metadata": {},
   "outputs": [
    {
     "data": {
      "text/plain": [
       "False"
      ]
     },
     "execution_count": 6,
     "metadata": {},
     "output_type": "execute_result"
    }
   ],
   "source": [
    "nlp.vocab['mystery'].is_stop"
   ]
  },
  {
   "cell_type": "markdown",
   "metadata": {},
   "source": [
    "## To add a stop word\n",
    "There may be times when you wish to add a stop word to the default set. Perhaps you decide that `'btw'` (common shorthand for \"by the way\") should be considered a stop word."
   ]
  },
  {
   "cell_type": "code",
   "execution_count": 7,
   "metadata": {},
   "outputs": [
    {
     "data": {
      "text/plain": [
       "False"
      ]
     },
     "execution_count": 7,
     "metadata": {},
     "output_type": "execute_result"
    }
   ],
   "source": [
    "nlp.vocab['btw'].is_stop"
   ]
  },
  {
   "cell_type": "code",
   "execution_count": 8,
   "metadata": {},
   "outputs": [],
   "source": [
    "# Add the word to the set of stop words. Use lowercase!\n",
    "nlp.Defaults.stop_words.add('btw')\n",
    "\n",
    "# Set the stop_word tag on the lexeme\n",
    "nlp.vocab['btw'].is_stop = True"
   ]
  },
  {
   "cell_type": "code",
   "execution_count": 9,
   "metadata": {},
   "outputs": [
    {
     "data": {
      "text/plain": [
       "306"
      ]
     },
     "execution_count": 9,
     "metadata": {},
     "output_type": "execute_result"
    }
   ],
   "source": [
    "len(nlp.Defaults.stop_words)"
   ]
  },
  {
   "cell_type": "code",
   "execution_count": 10,
   "metadata": {},
   "outputs": [
    {
     "data": {
      "text/plain": [
       "True"
      ]
     },
     "execution_count": 10,
     "metadata": {},
     "output_type": "execute_result"
    }
   ],
   "source": [
    "nlp.vocab['btw'].is_stop"
   ]
  },
  {
   "cell_type": "markdown",
   "metadata": {},
   "source": [
    "<font color=green>When adding stop words, always use lowercase. Lexemes are converted to lowercase before being added to **vocab**.</font>"
   ]
  },
  {
   "cell_type": "markdown",
   "metadata": {},
   "source": [
    "## To remove a stop word\n",
    "Alternatively, you may decide that `'beyond'` should not be considered a stop word."
   ]
  },
  {
   "cell_type": "code",
   "execution_count": 12,
   "metadata": {},
   "outputs": [],
   "source": [
    "# Remove the word from the set of stop words\n",
    "nlp.Defaults.stop_words.remove('beyond')\n",
    "\n",
    "# Remove the stop_word tag from the lexeme\n",
    "nlp.vocab['beyond'].is_stop = False"
   ]
  },
  {
   "cell_type": "code",
   "execution_count": 13,
   "metadata": {},
   "outputs": [
    {
     "data": {
      "text/plain": [
       "305"
      ]
     },
     "execution_count": 13,
     "metadata": {},
     "output_type": "execute_result"
    }
   ],
   "source": [
    "len(nlp.Defaults.stop_words)"
   ]
  },
  {
   "cell_type": "code",
   "execution_count": 14,
   "metadata": {},
   "outputs": [
    {
     "data": {
      "text/plain": [
       "False"
      ]
     },
     "execution_count": 14,
     "metadata": {},
     "output_type": "execute_result"
    }
   ],
   "source": [
    "nlp.vocab['beyond'].is_stop"
   ]
  },
  {
   "cell_type": "code",
   "execution_count": null,
   "metadata": {},
   "outputs": [],
   "source": []
  }
 ],
 "metadata": {
  "kernelspec": {
   "display_name": "nlp_course",
   "language": "python",
   "name": "nlp_course"
  },
  "language_info": {
   "codemirror_mode": {
    "name": "ipython",
    "version": 3
   },
   "file_extension": ".py",
   "mimetype": "text/x-python",
   "name": "python",
   "nbconvert_exporter": "python",
   "pygments_lexer": "ipython3",
   "version": "3.7.6"
  }
 },
 "nbformat": 4,
 "nbformat_minor": 4
}
