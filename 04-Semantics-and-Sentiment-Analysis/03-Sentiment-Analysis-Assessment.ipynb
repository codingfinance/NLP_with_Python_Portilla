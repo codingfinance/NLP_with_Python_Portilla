{
 "cells": [
  {
   "cell_type": "markdown",
   "metadata": {},
   "source": [
    "# Sentiment Analysis Assessment - Solution\n",
    "\n",
    "## Task #1: Perform vector arithmetic on your own words\n",
    "Write code that evaluates vector arithmetic on your own set of related words. The goal is to come as close to an expected word as possible. Please feel free to share success stories in the Q&A Forum for this section!"
   ]
  },
  {
   "cell_type": "code",
   "execution_count": 1,
   "metadata": {},
   "outputs": [],
   "source": [
    "# Import spaCy and load the language library. Remember to use a larger model!\n",
    "import spacy\n",
    "\n",
    "nlp = spacy.load('en_core_web_lg')\n"
   ]
  },
  {
   "cell_type": "code",
   "execution_count": 2,
   "metadata": {},
   "outputs": [
    {
     "name": "stdout",
     "output_type": "stream",
     "text": [
      "house house 1.0\n",
      "house building 0.6041158\n",
      "house structure 0.30534264\n",
      "building house 0.6041158\n",
      "building building 1.0\n",
      "building structure 0.59896547\n",
      "structure house 0.30534264\n",
      "structure building 0.59896547\n",
      "structure structure 1.0\n"
     ]
    }
   ],
   "source": [
    "# Choose the words you wish to compare, and obtain their vectors\n",
    "# We will compare words House Building Structure\n",
    "\n",
    "tokens = nlp('house building structure')\n",
    "\n",
    "for token1 in tokens:\n",
    "    for token2 in tokens:\n",
    "        print(token1.text, token2.text, token1.similarity(token2))\n"
   ]
  },
  {
   "cell_type": "code",
   "execution_count": 3,
   "metadata": {},
   "outputs": [],
   "source": [
    "# Import spatial and define a cosine_similarity function\n",
    "\n",
    "from scipy import spatial\n",
    "\n",
    "def cosine_similarity(x,y):\n",
    "    \n",
    "    s = 1 - spatial.distance.cosine(x,y)\n",
    "    \n",
    "    return s"
   ]
  },
  {
   "cell_type": "code",
   "execution_count": 4,
   "metadata": {},
   "outputs": [],
   "source": [
    "# Write an expression for vector arithmetic\n",
    "# For example: new_vector = word1 - word2 + word3\n",
    "\n",
    "def vec_arith(w1,w2,w3):\n",
    "    \n",
    "    word1 = nlp.vocab[w1].vector\n",
    "    word2 = nlp.vocab[w2].vector\n",
    "    word3 = nlp.vocab[w3].vector\n",
    "    \n",
    "    new_vector = word1 + word2 + word3\n",
    "    \n",
    "    computed_similarities = []\n",
    "    \n",
    "    for word in nlp.vocab:\n",
    "        \n",
    "        if word.has_vector:\n",
    "            \n",
    "            if word.is_lower:\n",
    "                \n",
    "                if word.is_alpha:\n",
    "                    \n",
    "                    similarities = cosine_similarity(new_vector, word.vector)\n",
    "                    computed_similarities.append((word, similarities))\n",
    "    \n",
    "    \n",
    "    \n",
    "    return computed_similarities\n",
    "    \n"
   ]
  },
  {
   "cell_type": "code",
   "execution_count": 5,
   "metadata": {},
   "outputs": [],
   "source": [
    "# List the top ten closest vectors in the vocabulary to the result of the expression above\n",
    "\n",
    "computed_similarities = vec_arith('protein', 'run', 'exercise')\n",
    "\n",
    "computed_similarities = sorted(computed_similarities, key = lambda item: -item[1])\n",
    "\n"
   ]
  },
  {
   "cell_type": "code",
   "execution_count": 6,
   "metadata": {},
   "outputs": [
    {
     "name": "stdout",
     "output_type": "stream",
     "text": [
      "['protein', 'exercise', 'diet', 'workout', 'muscle', 'carbohydrate', 'proteins', 'metabolism', 'healthy', 'routine']\n"
     ]
    }
   ],
   "source": [
    "print([w[0].text for w in computed_similarities][:10])"
   ]
  },
  {
   "cell_type": "code",
   "execution_count": 7,
   "metadata": {},
   "outputs": [],
   "source": [
    "computed_similarities = vec_arith('king','man','woman')\n",
    "\n",
    "computed_similarities = sorted(computed_similarities, key = lambda item: -item[1])"
   ]
  },
  {
   "cell_type": "code",
   "execution_count": 8,
   "metadata": {},
   "outputs": [
    {
     "name": "stdout",
     "output_type": "stream",
     "text": [
      "['man', 'woman', 'lady', 'king', 'boy', 'girl', 'father', 'men', 'he', 'guy']\n"
     ]
    }
   ],
   "source": [
    "print([w[0].text for w in computed_similarities][:10])"
   ]
  },
  {
   "cell_type": "markdown",
   "metadata": {},
   "source": [
    "## Task #2: Perform VADER Sentiment Analysis on your own review\n",
    "Write code that returns a set of SentimentIntensityAnalyzer polarity scores based on your own written review."
   ]
  },
  {
   "cell_type": "code",
   "execution_count": 9,
   "metadata": {},
   "outputs": [
    {
     "name": "stderr",
     "output_type": "stream",
     "text": [
      "C:\\Users\\DD\\Miniconda3\\envs\\nlp_course\\lib\\site-packages\\nltk\\twitter\\__init__.py:20: UserWarning: The twython library has not been installed. Some functionality from the twitter package will not be available.\n",
      "  warnings.warn(\"The twython library has not been installed. \"\n"
     ]
    }
   ],
   "source": [
    "# Import SentimentIntensityAnalyzer and create an sid object\n",
    "\n",
    "from nltk.sentiment import SentimentIntensityAnalyzer\n",
    "import nltk\n",
    "sid = SentimentIntensityAnalyzer()"
   ]
  },
  {
   "cell_type": "code",
   "execution_count": 10,
   "metadata": {},
   "outputs": [
    {
     "data": {
      "text/plain": [
       "{'neg': 0.0, 'neu': 0.764, 'pos': 0.236, 'compound': 0.8225}"
      ]
     },
     "execution_count": 10,
     "metadata": {},
     "output_type": "execute_result"
    }
   ],
   "source": [
    "# Write a review as one continuous string (multiple sentences are ok)\n",
    "review = 'The movie had predictable ending. The comedians tried their best to make viewers laugh, but they could only do so to some extent. The main actors were given the roles they were born to play.'\n",
    "\n",
    "# Obtain the sid scores for your review\n",
    "sid.polarity_scores(review)"
   ]
  },
  {
   "cell_type": "code",
   "execution_count": 11,
   "metadata": {},
   "outputs": [
    {
     "data": {
      "text/plain": [
       "{'neg': 0.0, 'neu': 0.709, 'pos': 0.291, 'compound': 0.9299}"
      ]
     },
     "execution_count": 11,
     "metadata": {},
     "output_type": "execute_result"
    }
   ],
   "source": [
    "# Write a review as one continuous string (multiple sentences are ok)\n",
    "review = 'Must see movie of the year! Cant beat anything that is out there.The movie had predictable ending. The comedians tried their best to make viewers laugh, did it well. The main actors were given the roles they were born to play.'\n",
    "\n",
    "# Obtain the sid scores for your review\n",
    "sid.polarity_scores(review)"
   ]
  },
  {
   "cell_type": "markdown",
   "metadata": {},
   "source": [
    "### CHALLENGE: Write a function that takes in a review and returns a score of \"Positive\", \"Negative\" or \"Neutral\""
   ]
  },
  {
   "cell_type": "code",
   "execution_count": 12,
   "metadata": {},
   "outputs": [],
   "source": [
    "def review_rating(string):\n",
    "    \n",
    "    from nltk.sentiment import SentimentIntensityAnalyzer\n",
    "    \n",
    "    sid = SentimentIntensityAnalyzer()\n",
    "    \n",
    "    rev_dict = sid.polarity_scores(review)\n",
    "    \n",
    "    rev = rev_dict['compound']\n",
    "    \n",
    "    if float(rev) > 0:\n",
    "        return 'Positive Review'\n",
    "    elif float(rev) < 0:\n",
    "        return 'Negative Review'\n",
    "    else:\n",
    "        'Neutral Review'"
   ]
  },
  {
   "cell_type": "markdown",
   "metadata": {},
   "source": [
    "## Applying the Sentiment Analysis to the Parasite (2019) movie reviews."
   ]
  },
  {
   "cell_type": "code",
   "execution_count": 13,
   "metadata": {},
   "outputs": [
    {
     "data": {
      "text/plain": [
       "'Negative Review'"
      ]
     },
     "execution_count": 13,
     "metadata": {},
     "output_type": "execute_result"
    }
   ],
   "source": [
    "review = '''A family of incompetents who struggle to fold a pizza carton miraculously transform to ingenious con artists and infiltrate themselves into a rich home where they successfully pretend to deliver services they have no clue of. The inhabitants of the house, on the other hand, are so incredibly stupid that they don't notice anything is wrong except for some wierd smell. But the impostors refuse to be judged by their smell! A bloodbath follows. The end. Standing ovation at Cannes, Palme d'Or, 8,6-star rating on IMDB... It's not just a bad story, no, it's actually the perfect story based on the wrong belief that if you are poor, you cannot be expected to be good, and if you are rich, you are never good enough. Naturally, stereotypical characters follow and I couldn't make myself care about any of them. The only moments when the poor father showed some deepness were during his monologue about living with no plans and when he checked his smell after he heard the rich father complaining about it. Otherwise, all family members were interested only in filling their bellies with junk and had no reservations in causing any kind of harm to that end. Now, I know I'm supposed to dislike the rich family, but although I didn't like them either, I don't see what's so wrong about them. But the urge in society to favor the have-nots, no matter what their actual traits might be, is so strong that most of the reviewers take their side, while some even find them \"lovable\". And that I find even more disgusting than actually being disgusting.'''\n",
    "\n",
    "\n",
    "# Test the function on your review above:\n",
    "review_rating(review)"
   ]
  },
  {
   "cell_type": "code",
   "execution_count": 14,
   "metadata": {},
   "outputs": [
    {
     "data": {
      "text/plain": [
       "'Negative Review'"
      ]
     },
     "execution_count": 14,
     "metadata": {},
     "output_type": "execute_result"
    }
   ],
   "source": [
    "review = '''It makes no sense of the situations. Some scenes were good but the movie is too long for the story. Also, the plot is very predecible in a lot of things. I don't recommend this movie.'''\n",
    "\n",
    "review_rating(review)"
   ]
  },
  {
   "cell_type": "code",
   "execution_count": 15,
   "metadata": {},
   "outputs": [
    {
     "data": {
      "text/plain": [
       "'Negative Review'"
      ]
     },
     "execution_count": 15,
     "metadata": {},
     "output_type": "execute_result"
    }
   ],
   "source": [
    "review = '''A story there was. Thrilling scenes there were. Some pretty cinematography yes. Solid character build-up, hell no. Logical plot, no. Entertainment, not much. Consistency of characters, missing. Petty resentful ignorance towards the rich, yes. Narrow and shallow depiction of the poor, very much.\n",
    "\n",
    "So not convincing. Every stretch of the movie i thought I started understanding the characters a bit more, but no, next stretch would make me scratch that understanding and try to rebuild again.. In the end, it made me fail to attach with any of the characters.\n",
    "\n",
    "Without enough entertainment, what were the film makers trying to tell the audience? I completely don't get it.\n",
    "\n",
    "Really doesn't match the hype. Wasted two hours of my life.'''\n",
    "\n",
    "review_rating(review)"
   ]
  },
  {
   "cell_type": "code",
   "execution_count": 16,
   "metadata": {},
   "outputs": [
    {
     "data": {
      "text/plain": [
       "'Positive Review'"
      ]
     },
     "execution_count": 16,
     "metadata": {},
     "output_type": "execute_result"
    }
   ],
   "source": [
    "review = '''I can't remember the last time I saw a movie that contained as many genres as 'Parasite'. The movie starts out almost like an 'Ocean's Eleven' heist film and then expands into a comedy, mystery, thriller, drama, romance, crime and even horror film. It really did have everything and it was strikingly good at all of them too.\n",
    "\n",
    "I love a film that respects its audience. There are so many details in this movie that are crucially important and yet the film trusts its audience to notice them and acknowledge them without ramming them down our throats. There are a lot of layers to this film and I suspect for this reason its rewatch-ability factor will be very high.\n",
    "\n",
    "The film was incredibly entertaining too. I can't think of a boring scene in this movie and yet on the surface for large parts of the film you would say not a lot is happening, at least in terms of action. Fascinating characters and brilliant dialogue are what create this. I had a great time with 'Parasite' and I think most that give it a chance will too.'''\n",
    "\n",
    "review_rating(review)"
   ]
  },
  {
   "cell_type": "code",
   "execution_count": null,
   "metadata": {},
   "outputs": [],
   "source": []
  }
 ],
 "metadata": {
  "kernelspec": {
   "display_name": "nlp_course",
   "language": "python",
   "name": "nlp_course"
  },
  "language_info": {
   "codemirror_mode": {
    "name": "ipython",
    "version": 3
   },
   "file_extension": ".py",
   "mimetype": "text/x-python",
   "name": "python",
   "nbconvert_exporter": "python",
   "pygments_lexer": "ipython3",
   "version": "3.7.6"
  }
 },
 "nbformat": 4,
 "nbformat_minor": 4
}
